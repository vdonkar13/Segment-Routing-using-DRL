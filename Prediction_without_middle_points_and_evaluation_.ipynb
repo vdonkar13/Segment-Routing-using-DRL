{
 "cells": [
  {
   "cell_type": "code",
   "execution_count": 95,
   "id": "ec788d2e",
   "metadata": {},
   "outputs": [],
   "source": [
    "import torch\n",
    "import torch.nn as nn\n",
    "import torch.optim as optim"
   ]
  },
  {
   "cell_type": "code",
   "execution_count": 96,
   "id": "0a5aaeb7",
   "metadata": {},
   "outputs": [],
   "source": [
    "class DRLModel(nn.Module):\n",
    "    def __init__(self, input_dim, output_dim):\n",
    "        super(DRLModel, self).__init__()\n",
    "        self.fc1 = nn.Linear(input_dim, 64)\n",
    "        self.fc2 = nn.Linear(64, 32)\n",
    "        self.fc3 = nn.Linear(32, output_dim)\n",
    "        \n",
    "    def forward(self, x):\n",
    "        x = torch.relu(self.fc1(x))\n",
    "        x = torch.relu(self.fc2(x))\n",
    "        x = self.fc3(x)\n",
    "        return x"
   ]
  },
  {
   "cell_type": "code",
   "execution_count": 97,
   "id": "b9a27f30",
   "metadata": {},
   "outputs": [],
   "source": [
    "# Define a function to convert input data to tensors\n",
    "def preprocess_input(input_data, topology_data):\n",
    "    input_tensors = {}\n",
    "    for topology, data in input_data.items():\n",
    "        flow_demands = data['flow_demands']\n",
    "        \n",
    "        # Convert flow demands to tensor\n",
    "        flow_demands_tensor = torch.tensor([[ord(src) - ord('A'), ord(dest) - ord('A'), demand] for src, dest, demand in flow_demands], dtype=torch.float32)\n",
    "        \n",
    "        # Get topology features\n",
    "        topology_index = int(topology.split('_')[-1]) - 1\n",
    "        topology_features = topology_data[topology_index]\n",
    "        \n",
    "        # Concatenate all features\n",
    "        input_tensors[topology] = (flow_demands_tensor.view(-1), topology_features)\n",
    "    \n",
    "    return input_tensors"
   ]
  },
  {
   "cell_type": "code",
   "execution_count": 98,
   "id": "abcf37d6",
   "metadata": {},
   "outputs": [],
   "source": [
    "def preprocess_output(output_data):\n",
    "    output_tensors = {}\n",
    "    for topology, data in output_data.items():\n",
    "        success_counts = [data[i]['success_count'] for i in range(1, 6)]  # Extract success counts\n",
    "        output_tensors[topology] = torch.tensor(success_counts, dtype=torch.float32)\n",
    "    return output_tensors"
   ]
  },
  {
   "cell_type": "code",
   "execution_count": 99,
   "id": "dbd92a5c",
   "metadata": {},
   "outputs": [],
   "source": [
    "def train_drl_model(model, optimizer, num_epochs, input_data, output_data):\n",
    "    for epoch in range(num_epochs):\n",
    "        total_loss = 0.0\n",
    "        for topology, (features, topology_features) in input_data.items():\n",
    "            optimizer.zero_grad()\n",
    "            predicted_output = model(torch.cat((features, topology_features)))\n",
    "            loss = nn.MSELoss()(predicted_output, output_data[topology])\n",
    "            total_loss += loss.item()\n",
    "            loss.backward()\n",
    "            optimizer.step()\n",
    "        if epoch % 100 == 0:\n",
    "            print(f'Epoch [{epoch}/{num_epochs}], Total Loss: {total_loss}')"
   ]
  },
  {
   "cell_type": "code",
   "execution_count": 100,
   "id": "d9cd609b",
   "metadata": {},
   "outputs": [],
   "source": [
    "# Read topology files and extract topology features\n",
    "def read_topology_file(filepath):\n",
    "    with open(filepath, 'r') as file:\n",
    "        content = file.readlines()\n",
    "        nodes = [line.strip() for line in content[1:content.index('Edges:\\n')]]\n",
    "        edges = [line.split() for line in content[content.index('Edges:\\n')+1:]]\n",
    "    return nodes, edges"
   ]
  },
  {
   "cell_type": "code",
   "execution_count": 101,
   "id": "c5ff4539",
   "metadata": {},
   "outputs": [],
   "source": [
    "def extract_topology_features(nodes, edges):\n",
    "    return torch.tensor([len(nodes), len(edges)], dtype=torch.float32)\n"
   ]
  },
  {
   "cell_type": "code",
   "execution_count": 102,
   "id": "0ef4c502",
   "metadata": {},
   "outputs": [
    {
     "name": "stdout",
     "output_type": "stream",
     "text": [
      "Epoch [0/1000], Total Loss: 41.2669837474823\n",
      "Epoch [100/1000], Total Loss: 0.012689722585491836\n",
      "Epoch [200/1000], Total Loss: 3.277276874769086e-06\n",
      "Epoch [300/1000], Total Loss: 0.0022644832206424326\n",
      "Epoch [400/1000], Total Loss: 9.920696837813214e-11\n",
      "Epoch [500/1000], Total Loss: 4.257955208038233e-13\n",
      "Epoch [600/1000], Total Loss: 2.2959966998180336e-13\n",
      "Epoch [700/1000], Total Loss: 2.457349761897376e-06\n",
      "Epoch [800/1000], Total Loss: 1.6259640050922224e-12\n",
      "Epoch [900/1000], Total Loss: 7.61418730003987e-14\n"
     ]
    }
   ],
   "source": [
    "# Load topology data\n",
    "filepaths = [\n",
    "    \"M:/Group Project/ManojTopologies/topology_1.txt\",\n",
    "    \"M:/Group Project/ManojTopologies/topology_2.txt\",\n",
    "    \"M:/Group Project/ManojTopologies/topology_3.txt\",\n",
    "    \"M:/Group Project/ManojTopologies/topology_4.txt\",\n",
    "    \"M:/Group Project/ManojTopologies/topology_5.txt\",    \n",
    "]\n",
    "\n",
    "topology_data = []\n",
    "for filepath in filepaths:\n",
    "    nodes, edges = read_topology_file(filepath)\n",
    "    topology_data.append(extract_topology_features(nodes, edges))\n",
    "\n",
    "# Define input and output data\n",
    "input_data = {\n",
    "    'Topology_1': {'flow_demands': [('F', 'E', 17), ('F', 'A', 10), ('B', 'A', 46), ('A', 'C', 29), ('B', 'E', 50)]},\n",
    "    'Topology_2': {'flow_demands': [('F', 'J', 16), ('J', 'E', 17), ('E', 'A', 31), ('D', 'E', 19), ('E', 'A', 43)]},\n",
    "    'Topology_3': {'flow_demands': [('A', 'I', 21), ('D', 'E', 14), ('D', 'G', 45), ('H', 'F', 33), ('H', 'B', 47)]},\n",
    "    'Topology_4': {'flow_demands': [('B', 'C', 41), ('A', 'F', 43), ('C', 'B', 27), ('E', 'B', 41), ('C', 'E', 40)]},\n",
    "    'Topology_5': {'flow_demands': [('D', 'C', 45), ('C', 'I', 33), ('C', 'A', 31), ('J', 'D', 46), ('J', 'K', 50)]}\n",
    "}\n",
    "\n",
    "output_data = {\n",
    "    'Topology_1': {1: {'success_count': 4}, 2: {'success_count': 3}, 3: {'success_count': 3}, 4: {'success_count': 3}, 5: {'success_count': 3}},\n",
    "    'Topology_2': {1: {'success_count': 2}, 2: {'success_count': 2}, 3: {'success_count': 1}, 4: {'success_count': 1}, 5: {'success_count': 1}},\n",
    "    'Topology_3': {1: {'success_count': 4}, 2: {'success_count': 3}, 3: {'success_count': 4}, 4: {'success_count': 4}, 5: {'success_count': 3}},\n",
    "    'Topology_4': {1: {'success_count': 0}, 2: {'success_count': 0}, 3: {'success_count': 0}, 4: {'success_count': 0}, 5: {'success_count': 0}},\n",
    "    'Topology_5': {1: {'success_count': 5}, 2: {'success_count': 5}, 3: {'success_count': 5}, 4: {'success_count': 5}, 5: {'success_count': 5}}\n",
    "}\n",
    "\n",
    "input_dim = len(next(iter(input_data.values()))['flow_demands']) * 3 + 2  # Adding 2 for topology features\n",
    "output_dim = 5  # Number of successful demand flows\n",
    "model = DRLModel(input_dim, output_dim)\n",
    "optimizer = optim.Adam(model.parameters(), lr=0.001)\n",
    "num_epochs = 1000\n",
    "\n",
    "# Preprocess input and output data\n",
    "input_tensors = preprocess_input(input_data, topology_data)\n",
    "output_tensors = preprocess_output(output_data)\n",
    "\n",
    "# Train the DRL model\n",
    "train_drl_model(model, optimizer, num_epochs, input_tensors, output_tensors)"
   ]
  },
  {
   "cell_type": "code",
   "execution_count": 103,
   "id": "8bd41b85",
   "metadata": {},
   "outputs": [],
   "source": [
    "# Function to preprocess input data for testing\n",
    "def preprocess_test_input(test_input_data, test_topology_data):\n",
    "    test_input_tensors = {}\n",
    "    for topology, data in test_input_data.items():\n",
    "        flow_demands = data['flow_demands']\n",
    "        \n",
    "        # Convert flow demands to tensor\n",
    "        flow_demands_tensor = torch.tensor([[ord(src) - ord('A'), ord(dest) - ord('A'), demand] for src, dest, demand in flow_demands], dtype=torch.float32)\n",
    "        \n",
    "        # Get topology features\n",
    "        topology_index = int(topology.split('_')[-1]) - 1\n",
    "        topology_features = test_topology_data[topology_index]\n",
    "        \n",
    "        # Concatenate all features\n",
    "        test_input_tensors[topology] = (flow_demands_tensor.view(-1), topology_features)\n",
    "    \n",
    "    return test_input_tensors"
   ]
  },
  {
   "cell_type": "code",
   "execution_count": 104,
   "id": "e7897b4f",
   "metadata": {},
   "outputs": [],
   "source": [
    "# Function to test the DRL model and calculate optimal number of middle points\n",
    "def test_drl_model(model, test_input_data, test_topology_data):\n",
    "    predictions = {}\n",
    "    for topology, (features, topology_features) in test_input_data.items():\n",
    "        with torch.no_grad():\n",
    "            predicted_output = model(torch.cat((features, topology_features)))\n",
    "        predictions[topology] = predicted_output.argmax().item() + 1  # Select the action with \n",
    "        #predictions[topology] = predicted_output.tolist()\n",
    "    return predictions\n"
   ]
  },
  {
   "cell_type": "code",
   "execution_count": 105,
   "id": "945bc1d5",
   "metadata": {},
   "outputs": [],
   "source": [
    "def load_filepaths(filepaths):\n",
    "    topology_data = []\n",
    "    for filepath in filepaths:\n",
    "        nodes, edges = read_topology_file(filepath)\n",
    "        topology_data.append(extract_topology_features(nodes, edges))\n",
    "    return topology_data"
   ]
  },
  {
   "cell_type": "code",
   "execution_count": 106,
   "id": "01dd0b2a",
   "metadata": {},
   "outputs": [
    {
     "name": "stdout",
     "output_type": "stream",
     "text": [
      "Predictions for Topology_1: 1\n",
      "Predictions for Topology_2: 1\n",
      "Predictions for Topology_3: 2\n",
      "Predictions for Topology_4: 5\n",
      "Predictions for Topology_5: 5\n"
     ]
    }
   ],
   "source": [
    "# Define filepaths of the new topologies\n",
    "filepathtest = [\n",
    "    \"M:/Group Project/Topology_new/Topology_new/topology_1.txt\",\n",
    "    \"M:/Group Project/Topology_new/Topology_new/topology_2.txt\",\n",
    "    \"M:/Group Project/Topology_new/Topology_new/topology_3.txt\",\n",
    "    \"M:/Group Project/Topology_new/Topology_new/topology_4.txt\",\n",
    "    \"M:/Group Project/Topology_new/Topology_new/topology_5.txt\",  \n",
    "]\n",
    "\n",
    "# Test input data\n",
    "input_data_test = {\n",
    "    'Topology_1': {'flow_demands': [('K', 'D', 30), ('I', 'O', 31), ('K', 'O', 41), ('K', 'D', 45), ('R', 'G', 40)]},\n",
    "    'Topology_2': {'flow_demands': [('G', 'O', 12), ('J', 'I', 15), ('R', 'B', 45), ('P', 'E', 30), ('R', 'C', 10)]},\n",
    "    'Topology_3': {'flow_demands': [('C', 'F', 29), ('I', 'C', 47), ('B', 'I', 11), ('G', 'B', 16), ('I', 'A', 31)]},\n",
    "    'Topology_4': {'flow_demands': [('A', 'B', 19), ('K', 'L', 43), ('K', 'F', 39), ('L', 'J', 50), ('G', 'E', 35)]},\n",
    "    'Topology_5': {'flow_demands': [('K', 'A', 22), ('J', 'L', 24), ('E', 'B', 10), ('B', 'E', 12), ('H', 'L', 15)]}\n",
    "}\n",
    "\n",
    "# Load topology data from filepathtest\n",
    "topology_data_test = load_filepaths(filepathtest)\n",
    "\n",
    "# Preprocess test input data\n",
    "test_input_tensors = preprocess_test_input(input_data_test, topology_data)\n",
    "\n",
    "# Test the DRL model\n",
    "predictions = test_drl_model(model, test_input_tensors, topology_data)\n",
    "\n",
    "# Print predictions\n",
    "for topology, prediction in predictions.items():\n",
    "    print(f\"Predictions for {topology}: {prediction}\")"
   ]
  },
  {
   "cell_type": "code",
   "execution_count": 107,
   "id": "5afc832e",
   "metadata": {},
   "outputs": [],
   "source": [
    "# Function to calculate prediction accuracy\n",
    "def calculate_accuracy(predictions, actual_output_data):\n",
    "    correct_predictions = 0\n",
    "    total_predictions = 0\n",
    "    for topology, prediction in predictions.items():\n",
    "        actual_success_counts = [actual_output_data[topology][i]['success_count'] for i in range(1, 6)]\n",
    "        actual_max_index = actual_success_counts.index(max(actual_success_counts)) + 1\n",
    "        if prediction == actual_max_index:\n",
    "            correct_predictions += 1\n",
    "        total_predictions += 1\n",
    "    accuracy = correct_predictions / total_predictions\n",
    "    return accuracy"
   ]
  },
  {
   "cell_type": "code",
   "execution_count": 108,
   "id": "371eaea5",
   "metadata": {},
   "outputs": [
    {
     "name": "stdout",
     "output_type": "stream",
     "text": [
      "Prediction Accuracy: 0.4\n"
     ]
    }
   ],
   "source": [
    "# Calculate accuracy\n",
    "accuracy = calculate_accuracy(predictions, output_data)\n",
    "print(\"Prediction Accuracy:\", accuracy)"
   ]
  },
  {
   "cell_type": "code",
   "execution_count": null,
   "id": "b7db77f8",
   "metadata": {},
   "outputs": [],
   "source": []
  }
 ],
 "metadata": {
  "kernelspec": {
   "display_name": "Python 3 (ipykernel)",
   "language": "python",
   "name": "python3"
  },
  "language_info": {
   "codemirror_mode": {
    "name": "ipython",
    "version": 3
   },
   "file_extension": ".py",
   "mimetype": "text/x-python",
   "name": "python",
   "nbconvert_exporter": "python",
   "pygments_lexer": "ipython3",
   "version": "3.9.12"
  }
 },
 "nbformat": 4,
 "nbformat_minor": 5
}
