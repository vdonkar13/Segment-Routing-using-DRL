{
 "cells": [
  {
   "cell_type": "code",
   "execution_count": 94,
   "id": "b30a1c5f",
   "metadata": {},
   "outputs": [],
   "source": [
    "from sklearn.metrics import accuracy_score, f1_score\n",
    "import torch\n",
    "import torch.nn as nn\n",
    "import torch.optim as optim\n",
    "import numpy as np"
   ]
  },
  {
   "cell_type": "code",
   "execution_count": 95,
   "id": "f1569b6f",
   "metadata": {},
   "outputs": [],
   "source": [
    "class DRLModel(nn.Module):\n",
    "    def __init__(self, input_dim, output_dim):\n",
    "        super(DRLModel, self).__init__()\n",
    "        self.fc1 = nn.Linear(input_dim, 64)\n",
    "        self.fc2 = nn.Linear(64, 32)\n",
    "        self.fc3 = nn.Linear(32, output_dim)\n",
    "        \n",
    "    def forward(self, x):\n",
    "        x = torch.relu(self.fc1(x))\n",
    "        x = torch.relu(self.fc2(x))\n",
    "        x = self.fc3(x)\n",
    "        return x"
   ]
  },
  {
   "cell_type": "code",
   "execution_count": 96,
   "id": "adc0299c",
   "metadata": {},
   "outputs": [],
   "source": [
    "# Define a function to convert input data to tensors\n",
    "def preprocess_input(input_data, topology_data):\n",
    "    # Convert input data to tensors\n",
    "    input_tensors = {}\n",
    "    for topology, data in input_data.items():\n",
    "        selected_middle_points = data['selected_middle_points']\n",
    "        flow_demands = data['flow_demands']\n",
    "        \n",
    "        # Convert selected middle points to one-hot encoded tensor\n",
    "        middle_points_tensor = torch.zeros(len(selected_middle_points))\n",
    "        for i, point in enumerate(selected_middle_points):\n",
    "            middle_points_tensor[i] = ord(point) - ord('A')  # Convert letter to one-hot index\n",
    "        \n",
    "        # Convert flow demands to tensor\n",
    "        flow_demands_tensor = torch.tensor([[ord(src) - ord('A'), ord(dest) - ord('A'), demand] for src, dest, demand in flow_demands], dtype=torch.float32)\n",
    "        \n",
    "        # Get topology features\n",
    "        topology_index = int(topology.split('_')[-1]) - 1\n",
    "        topology_features = topology_data[topology_index]\n",
    "        \n",
    "        # Concatenate all features\n",
    "        input_tensors[topology] = (torch.cat((middle_points_tensor, flow_demands_tensor.view(-1))), topology_features)\n",
    "    \n",
    "    return input_tensors"
   ]
  },
  {
   "cell_type": "code",
   "execution_count": 97,
   "id": "cc69a8ee",
   "metadata": {},
   "outputs": [],
   "source": [
    "def preprocess_output(output_data):\n",
    "    output_tensors = {}\n",
    "    for topology, data in output_data.items():\n",
    "        success_counts = [data[i]['success_count'] for i in range(1, 6)]  # Extract success counts\n",
    "        output_tensors[topology] = torch.tensor(success_counts, dtype=torch.float32)\n",
    "    return output_tensors"
   ]
  },
  {
   "cell_type": "code",
   "execution_count": 98,
   "id": "5375f116",
   "metadata": {},
   "outputs": [],
   "source": [
    "def train_drl_model(model, optimizer, num_epochs, input_data, output_data):\n",
    "    for epoch in range(num_epochs):\n",
    "        total_loss = 0.0\n",
    "        for topology, (features, topology_features) in input_data.items():\n",
    "            optimizer.zero_grad()\n",
    "            predicted_output = model(torch.cat((features, topology_features)))\n",
    "            loss = nn.MSELoss()(predicted_output, output_data[topology])\n",
    "            total_loss += loss.item()\n",
    "            loss.backward()\n",
    "            optimizer.step()\n",
    "        if epoch % 100 == 0:\n",
    "            print(f'Epoch [{epoch}/{num_epochs}], Total Loss: {total_loss}')"
   ]
  },
  {
   "cell_type": "code",
   "execution_count": 99,
   "id": "a636de35",
   "metadata": {},
   "outputs": [],
   "source": [
    "# Read topology files and extract topology features\n",
    "def read_topology_file(filepath):\n",
    "    with open(filepath, 'r') as file:\n",
    "        content = file.readlines()\n",
    "        nodes = [line.strip() for line in content[1:content.index('Edges:\\n')]]\n",
    "        edges = [line.split() for line in content[content.index('Edges:\\n')+1:]]\n",
    "    return nodes, edges"
   ]
  },
  {
   "cell_type": "code",
   "execution_count": 100,
   "id": "2c357af9",
   "metadata": {},
   "outputs": [],
   "source": [
    "def extract_topology_features(nodes, edges):\n",
    "    return torch.tensor([len(nodes), len(edges)], dtype=torch.float32)"
   ]
  },
  {
   "cell_type": "code",
   "execution_count": 101,
   "id": "f79dff70",
   "metadata": {},
   "outputs": [
    {
     "name": "stdout",
     "output_type": "stream",
     "text": [
      "Epoch [0/1000], Total Loss: 45.73314583301544\n",
      "Epoch [100/1000], Total Loss: 0.0004858516731474083\n",
      "Epoch [200/1000], Total Loss: 3.84637038330915e-08\n",
      "Epoch [300/1000], Total Loss: 2.5134672514419594e-12\n",
      "Epoch [400/1000], Total Loss: 2.822742082461108e-13\n",
      "Epoch [500/1000], Total Loss: 0.001513996598077938\n",
      "Epoch [600/1000], Total Loss: 3.628430834869828e-13\n",
      "Epoch [700/1000], Total Loss: 1.5816237573034147e-13\n",
      "Epoch [800/1000], Total Loss: 3.887779084194129e-13\n",
      "Epoch [900/1000], Total Loss: 5.048458388046129e-05\n"
     ]
    }
   ],
   "source": [
    "# Load topology data\n",
    "filepaths = [\n",
    "    \"M:/Group Project/ManojTopologies/topology_1.txt\",\n",
    "    \"M:/Group Project/ManojTopologies/topology_2.txt\",\n",
    "    \"M:/Group Project/ManojTopologies/topology_3.txt\",\n",
    "    \"M:/Group Project/ManojTopologies/topology_4.txt\",\n",
    "    \"M:/Group Project/ManojTopologies/topology_5.txt\",    \n",
    "]\n",
    "\n",
    "topology_data = []\n",
    "for filepath in filepaths:\n",
    "    nodes, edges = read_topology_file(filepath)\n",
    "    topology_data.append(extract_topology_features(nodes, edges))\n",
    "\n",
    "# Define input and output data\n",
    "input_data = {\n",
    "    'Topology_1': {'selected_middle_points': ['C', 'B', 'D', 'A', 'F'], 'flow_demands': [('D', 'B', 13), ('E', 'C', 39), ('F', 'C', 37), ('B', 'E', 15), ('E', 'B', 12)]},\n",
    "    'Topology_2': {'selected_middle_points': ['C', 'E', 'B', 'F', 'A'], 'flow_demands': [('E', 'D', 37), ('B', 'H', 47), ('I', 'F', 35), ('H', 'J', 41), ('B', 'E', 12)]},\n",
    "    'Topology_3': {'selected_middle_points': ['B', 'A', 'D', 'F', 'H'], 'flow_demands': [('H', 'G', 10), ('B', 'H', 44), ('H', 'F', 30), ('A', 'D', 50), ('F', 'A', 25)]},\n",
    "    'Topology_4': {'selected_middle_points': ['B', 'D', 'A', 'C', 'E'], 'flow_demands': [('E', 'G', 24), ('A', 'F', 40), ('D', 'E', 24), ('C', 'G', 44), ('F', 'E', 43)]},\n",
    "    'Topology_5': {'selected_middle_points': ['A', 'F', 'B', 'C', 'H'], 'flow_demands': [('A', 'D', 34), ('C', 'B', 29), ('E', 'D', 30), ('E', 'B', 11), ('C', 'I', 31)]}\n",
    "}\n",
    "\n",
    "output_data = {\n",
    "    'Topology_1': {1: {'success_count': 4}, 2: {'success_count': 3}, 3: {'success_count': 3}, 4: {'success_count': 3}, 5: {'success_count': 3}},\n",
    "    'Topology_2': {1: {'success_count': 2}, 2: {'success_count': 2}, 3: {'success_count': 1}, 4: {'success_count': 1}, 5: {'success_count': 1}},\n",
    "    'Topology_3': {1: {'success_count': 4}, 2: {'success_count': 3}, 3: {'success_count': 4}, 4: {'success_count': 4}, 5: {'success_count': 3}},\n",
    "    'Topology_4': {1: {'success_count': 0}, 2: {'success_count': 0}, 3: {'success_count': 0}, 4: {'success_count': 0}, 5: {'success_count': 0}},\n",
    "    'Topology_5': {1: {'success_count': 5}, 2: {'success_count': 5}, 3: {'success_count': 5}, 4: {'success_count': 5}, 5: {'success_count': 5}}\n",
    "}\n",
    "\n",
    "input_dim = len(input_data['Topology_1']['selected_middle_points']) + len(input_data['Topology_1']['flow_demands']) * 3 + 2  # Adding 2 for topology features\n",
    "output_dim = 5  # Number of successful demand flows\n",
    "model = DRLModel(input_dim, output_dim)\n",
    "optimizer = optim.Adam(model.parameters(), lr=0.001)\n",
    "num_epochs = 1000\n",
    "\n",
    "# Preprocess input and output data\n",
    "input_tensors = preprocess_input(input_data, topology_data)\n",
    "output_tensors = preprocess_output(output_data)\n",
    "\n",
    "# Train the DRL model\n",
    "train_drl_model(model, optimizer, num_epochs, input_tensors, output_tensors)"
   ]
  },
  {
   "cell_type": "code",
   "execution_count": 102,
   "id": "20af16d6",
   "metadata": {},
   "outputs": [],
   "source": [
    "def preprocess_testing_input(input_data, topology_data):\n",
    "    input_tensors = {}\n",
    "    for topology, data in input_data.items():\n",
    "        selected_middle_points = data['selected_middle_points']\n",
    "        flow_demands = data['flow_demands']\n",
    "        \n",
    "        # Convert selected middle points to one-hot encoded tensor\n",
    "        middle_points_tensor = torch.zeros(len(selected_middle_points))\n",
    "        for i, point in enumerate(selected_middle_points):\n",
    "            middle_points_tensor[i] = ord(point) - ord('A')  # Convert letter to one-hot index\n",
    "        \n",
    "        # Convert flow demands to tensor\n",
    "        flow_demands_tensor = torch.tensor([[ord(src) - ord('A'), ord(dest) - ord('A'), demand] for src, dest, demand in flow_demands], dtype=torch.float32)\n",
    "        \n",
    "        # Get topology features\n",
    "        topology_index = int(topology.split('_')[-1]) - 1\n",
    "        topology_features = topology_data[topology_index]\n",
    "        \n",
    "        # Concatenate all features\n",
    "        input_tensors[topology] = (torch.cat((middle_points_tensor, flow_demands_tensor.view(-1))), topology_features)\n",
    "    \n",
    "    return input_tensors"
   ]
  },
  {
   "cell_type": "code",
   "execution_count": 103,
   "id": "28004395",
   "metadata": {},
   "outputs": [],
   "source": [
    "def predict_success_counts(model, input_data):\n",
    "    success_counts = {}\n",
    "    with torch.no_grad():\n",
    "        for topology, (features, topology_features) in input_data.items():\n",
    "            predicted_output = model(torch.cat((features, topology_features)))\n",
    "            success_counts[topology] = predicted_output.argmax().item() + 1  # Select the action with maximum success count\n",
    "    return success_counts"
   ]
  },
  {
   "cell_type": "code",
   "execution_count": 104,
   "id": "e2da449b",
   "metadata": {},
   "outputs": [],
   "source": [
    "def load_topology_data(filepaths):\n",
    "    topology_data = []\n",
    "    for filepath in filepaths:\n",
    "        nodes, edges = read_topology_file(filepath)\n",
    "        topology_data.append(extract_topology_features(nodes, edges))\n",
    "    return topology_data\n"
   ]
  },
  {
   "cell_type": "code",
   "execution_count": 105,
   "id": "0db91d56",
   "metadata": {},
   "outputs": [
    {
     "name": "stdout",
     "output_type": "stream",
     "text": [
      "Predicted optimal number of middle points for Topology_1: 1\n",
      "Predicted optimal number of middle points for Topology_2: 3\n",
      "Predicted optimal number of middle points for Topology_3: 2\n",
      "Predicted optimal number of middle points for Topology_4: 3\n",
      "Predicted optimal number of middle points for Topology_5: 3\n"
     ]
    }
   ],
   "source": [
    "testing_input_data = {\n",
    "    'Topology_1': {'selected_middle_points': ['A', 'B', 'J', 'H', 'C'], 'flow_demands': [('G', 'R', 16), ('P', 'D', 46), ('J', 'F', 18), ('G', 'J', 34), ('C', 'F', 11)]},\n",
    "    'Topology_2': {'selected_middle_points': ['C', 'B', 'A', 'F', 'G'], 'flow_demands': [('E', 'B', 35), ('C', 'I', 31), ('G', 'D', 50), ('R', 'P', 21), ('L', 'M', 23)]},\n",
    "    'Topology_3': {'selected_middle_points': ['A', 'C', 'B', 'D', 'F'], 'flow_demands': [('G', 'F', 32), ('H', 'A', 23), ('C', 'D', 24), ('I', 'F', 44), ('E', 'A', 36)]},\n",
    "    'Topology_4': {'selected_middle_points': ['B', 'C', 'H', 'E', 'F'], 'flow_demands': [('B', 'M', 22), ('E', 'M', 19), ('C', 'L', 18), ('D', 'C', 39), ('L', 'D', 34)]},\n",
    "    'Topology_5': {'selected_middle_points': ['E', 'F', 'L', 'D', 'C'], 'flow_demands': [('G', 'E', 10), ('M', 'I', 20), ('E', 'H', 38), ('D', 'K', 29), ('K', 'F', 40)]}\n",
    "}\n",
    "\n",
    "filepathtest = [\n",
    "    \"M:/Group Project/Topology_new/Topology_new/topology_1.txt\",\n",
    "    \"M:/Group Project/Topology_new/Topology_new/topology_2.txt\",\n",
    "    \"M:/Group Project/Topology_new/Topology_new/topology_3.txt\",\n",
    "    \"M:/Group Project/Topology_new/Topology_new/topology_4.txt\",\n",
    "    \"M:/Group Project/Topology_new/Topology_new/topology_5.txt\",  \n",
    "]\n",
    "\n",
    "\n",
    "testing_topology_data = load_topology_data(filepathtest)\n",
    "\n",
    "# Preprocess testing input data\n",
    "testing_input_tensors = preprocess_testing_input(testing_input_data, topology_data)\n",
    "\n",
    "# Predict success counts for each topology\n",
    "predicted_success_counts = predict_success_counts(model, testing_input_tensors)\n",
    "\n",
    "# Print the predicted success counts for each topology\n",
    "for topology, count in predicted_success_counts.items():\n",
    "    print(f\"Predicted optimal number of middle points for {topology}: {count}\")"
   ]
  },
  {
   "cell_type": "code",
   "execution_count": 106,
   "id": "a38ede66",
   "metadata": {},
   "outputs": [],
   "source": [
    "# Define ground truth success counts\n",
    "ground_truth_success_counts = {\n",
    "    'Topology_1': 3,\n",
    "    'Topology_2': 2,\n",
    "    'Topology_3': 3,\n",
    "    'Topology_4': 3,\n",
    "    'Topology_5': 2\n",
    "}\n"
   ]
  },
  {
   "cell_type": "code",
   "execution_count": 107,
   "id": "eca1c335",
   "metadata": {},
   "outputs": [],
   "source": [
    "ground_truth = [ground_truth_success_counts[topology] for topology in predicted_success_counts]\n"
   ]
  },
  {
   "cell_type": "code",
   "execution_count": 108,
   "id": "102cc0d3",
   "metadata": {},
   "outputs": [
    {
     "name": "stdout",
     "output_type": "stream",
     "text": [
      "Accuracy: 0.2\n",
      "F1 Score: 0.2\n"
     ]
    }
   ],
   "source": [
    "predicted = list(predicted_success_counts.values())\n",
    "accuracy = accuracy_score(ground_truth, predicted)\n",
    "f1 = f1_score(ground_truth, predicted, average='weighted')\n",
    "print(f\"Accuracy: {accuracy}\")\n",
    "print(f\"F1 Score: {f1}\")"
   ]
  },
  {
   "cell_type": "code",
   "execution_count": null,
   "id": "ab45696a",
   "metadata": {},
   "outputs": [],
   "source": []
  },
  {
   "cell_type": "code",
   "execution_count": null,
   "id": "bd851fc8",
   "metadata": {},
   "outputs": [],
   "source": []
  },
  {
   "cell_type": "code",
   "execution_count": null,
   "id": "fb49f11d",
   "metadata": {},
   "outputs": [],
   "source": []
  },
  {
   "cell_type": "code",
   "execution_count": null,
   "id": "01e0f3d3",
   "metadata": {},
   "outputs": [],
   "source": []
  },
  {
   "cell_type": "code",
   "execution_count": null,
   "id": "ae09b864",
   "metadata": {},
   "outputs": [],
   "source": []
  }
 ],
 "metadata": {
  "kernelspec": {
   "display_name": "Python 3 (ipykernel)",
   "language": "python",
   "name": "python3"
  },
  "language_info": {
   "codemirror_mode": {
    "name": "ipython",
    "version": 3
   },
   "file_extension": ".py",
   "mimetype": "text/x-python",
   "name": "python",
   "nbconvert_exporter": "python",
   "pygments_lexer": "ipython3",
   "version": "3.9.12"
  }
 },
 "nbformat": 4,
 "nbformat_minor": 5
}
